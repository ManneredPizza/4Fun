{
 "cells": [
  {
   "cell_type": "code",
   "execution_count": 30,
   "metadata": {},
   "outputs": [],
   "source": [
    "#prende un orario (per adesso randomico) e gli somma o sottrare un numero randomico di minuti, l'idea è creare una sveglia che non ti sveglia all'orario che chiedi te ma o prima o dopo di un tot\n",
    "#così il cervello è più invogliato a muoversi per capire che ore sono\n",
    "#va attaccato all'api di Alexa\n",
    "\n",
    "#orario input deriva dal comando vocale\n",
    "#intervallo di minuti da comando vocale\n",
    "\n",
    "#va disattivata la possibilità di chiedere l'ora ad Alexa se non si risolvono dei conti matematici a mente\n",
    "\n",
    "import random as r\n",
    "r.seed()"
   ]
  },
  {
   "cell_type": "code",
   "execution_count": 31,
   "metadata": {},
   "outputs": [],
   "source": [
    "def h_subtract(h_int, m_r, s):\n",
    "    if h_int[1] >= m_r and s == -1:\n",
    "        h_int[1] -= m_r\n",
    "    elif h_int[1] + m_r < 60 and s == 1:\n",
    "        h_int[1] += m_r\n",
    "    elif h_int[1] < m_r and s == -1:\n",
    "        if h_int[0] == 0:\n",
    "            h_int[0] = 11\n",
    "            h_int[1] = 60 - (m_r - h_int[1])\n",
    "            h_int[2] = 'AM' if h_int[2] == 'PM' else 'PM'\n",
    "        else:\n",
    "            h_int[0] -= 1\n",
    "            h_int[1] = 60 - (m_r - h_int[1])\n",
    "    elif h_int[1] + m_r > 60 and s == 1:\n",
    "        if h_int[0] == 11:\n",
    "            h_int[0] = 0\n",
    "            h_int[1] = h_int[1] + m_r - 60\n",
    "            h_int[2] = 'AM' if h_int[2] == 'PM' else 'PM'\n",
    "        else:\n",
    "            h_int[0] += 1\n",
    "            h_int[1] = h_int[1] + m_r - 60\n",
    "    elif h_int[1] + m_r == 60 and s == 1:\n",
    "        if h_int[0] == 11:\n",
    "            h_int[0] = 0\n",
    "            h_int[1] = 0\n",
    "            h_int[2] = 'AM' if h_int[2] == 'PM' else 'PM'\n",
    "        else:\n",
    "            h_int[0] += 1\n",
    "            h_int[1] = 0\n",
    "    else:\n",
    "        h_int = [0,0,'er']\n",
    "        \n",
    "    return h_int"
   ]
  },
  {
   "cell_type": "code",
   "execution_count": 32,
   "metadata": {},
   "outputs": [],
   "source": [
    "def random_h():\n",
    "    s = ['AM', 'PM']\n",
    "    h = r.randint(0,11)\n",
    "    m = r.randint(0,59)\n",
    "    j = r.randint(0,1)\n",
    "    \n",
    "    return [h,m,s[j]]"
   ]
  },
  {
   "cell_type": "code",
   "execution_count": 33,
   "metadata": {},
   "outputs": [
    {
     "name": "stdout",
     "output_type": "stream",
     "text": [
      "[4, 14, 'AM']\n",
      "14\n",
      "-1\n",
      "[4, 0, 'AM']\n"
     ]
    }
   ],
   "source": [
    "s = [-1,1]\n",
    "j = r.randint(0,1)\n",
    "s_j = s[j]\n",
    "m_r = r.randint(0,59)\n",
    "h_int = random_h()\n",
    "\n",
    "print(h_int)\n",
    "print(m_r)\n",
    "print(s_j)\n",
    "print(h_subtract(h_int, m_r, s_j))"
   ]
  },
  {
   "cell_type": "code",
   "execution_count": null,
   "metadata": {},
   "outputs": [],
   "source": []
  }
 ],
 "metadata": {
  "kernelspec": {
   "display_name": "Python 3",
   "language": "python",
   "name": "python3"
  },
  "language_info": {
   "codemirror_mode": {
    "name": "ipython",
    "version": 3
   },
   "file_extension": ".py",
   "mimetype": "text/x-python",
   "name": "python",
   "nbconvert_exporter": "python",
   "pygments_lexer": "ipython3",
   "version": "3.8.3"
  }
 },
 "nbformat": 4,
 "nbformat_minor": 4
}
